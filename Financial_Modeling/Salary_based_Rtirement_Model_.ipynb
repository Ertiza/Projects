{
 "cells": [
  {
   "cell_type": "markdown",
   "id": "9589aaf4-dafa-4b1f-a264-09ba779fe8d7",
   "metadata": {},
   "source": [
    "# Retirement Model\n",
    "### \"Financial Projection: Accumulating Wealth Over 28 Years to Achieve Retirement Goal\"\n",
    "\n",
    "This is a retirement model which models salary with both a constant growth rate for cost of living raises as well as regular salary increases for promotions. The model is broken up into the following sections:\n",
    "- [**Setup**](#Setup): Runs any imports and other setup\n",
    "- [**Inputs**](#Inputs): Defines the inputs for the model\n",
    "- [**Salaries**](#Salaries): Determining the salary in each year, considering cost of living raises and promotions\n",
    "- [**Wealths**](#Wealths): Determining the wealth in each year, considering a constant savings rate and investment rate\n",
    "- [**Retirement**](#Retirement): Determines years to retirement from the wealths over time, the main output from the model."
   ]
  },
  {
   "cell_type": "markdown",
   "id": "cbd763d3-278c-4ebc-b3ab-a1f20a8820c1",
   "metadata": {},
   "source": [
    "# Setup\n",
    "\n",
    "Setup for the later calculations are here. The necessary packages are imported."
   ]
  },
  {
   "cell_type": "code",
   "execution_count": 1,
   "id": "2475573a-1477-47f0-955b-5e30f01c87cb",
   "metadata": {},
   "outputs": [],
   "source": [
    "from dataclasses import dataclass"
   ]
  },
  {
   "cell_type": "markdown",
   "id": "9ced0996-f6df-4a4d-8072-545569ca7c82",
   "metadata": {},
   "source": [
    "## Inputs\n",
    "\n",
    "All of the inputs for the model are defined here. A class is constructed to manage the data, and an instance of the class containing the default inputs is created."
   ]
  },
  {
   "cell_type": "code",
   "execution_count": 2,
   "id": "c9a83869-2b24-41f1-abc0-e8cc3733f944",
   "metadata": {},
   "outputs": [
    {
     "data": {
      "text/plain": [
       "ModelInputs(starting_salary=60000, promos_every_n_years=5, cost_of_living_raise=0.02, promo_raise=0.15, savings_rate=0.25, interest_rate=0.05, desired_cash=1500000)"
      ]
     },
     "execution_count": 2,
     "metadata": {},
     "output_type": "execute_result"
    }
   ],
   "source": [
    "@dataclass\n",
    "class ModelInputs:\n",
    "    starting_salary: int = 60000\n",
    "    promos_every_n_years: int = 5\n",
    "    cost_of_living_raise: float = 0.02\n",
    "    promo_raise: float = 0.15\n",
    "    savings_rate: float = 0.25\n",
    "    interest_rate: float = 0.05\n",
    "    desired_cash: int = 1500000\n",
    "        \n",
    "model_data = ModelInputs()\n",
    "model_data"
   ]
  },
  {
   "cell_type": "markdown",
   "id": "aa2e1a88-6ff8-4e52-b2bb-d6bd2ceb06a3",
   "metadata": {},
   "source": [
    "## Class ModelInputs code explaination: \n",
    "This code defines a Python class called ModelInputs using the @dataclass decorator, which is part of the dataclasses module introduced in Python 3.7 to simplify the creation of classes that primarily store data.\n",
    "\n",
    "The ModelInputs class has several class variables (also known as attributes) with default values:\n",
    "\n",
    "starting_salary: An integer representing the starting salary, initialized with a default value of 60000.\n",
    "promos_every_n_years: An integer indicating the number of years between promotions, initialized with a default value of 5.\n",
    "cost_of_living_raise: A float representing the annual cost of living raise as a decimal, initialized with a default value of 0.02 (2%).\n",
    "promo_raise: A float representing the raise received upon each promotion as a decimal, initialized with a default value of 0.15 (15%).\n",
    "savings_rate: A float representing the proportion of the salary saved each year as a decimal, initialized with a default value of 0.25 (25%).\n",
    "interest_rate: A float representing the annual interest rate for savings as a decimal, initialized with a default value of 0.05 (5%).\n",
    "desired_cash: An integer representing the desired amount of cash savings, initialized with a default value of 1500000.\n",
    "After defining the ModelInputs class, an instance of the class is created with the name model_data. This instance is created without providing any specific values for the attributes, so it will use the default values specified in the class definition.\n",
    "\n",
    "Finally, the script prints the model_data instance, which will display the values of the attributes for this particular instance, showing the default values unless they are later modified during the program's execution."
   ]
  },
  {
   "cell_type": "markdown",
   "id": "9d8b5a9a-85f9-44a2-8fa0-59c49bb06787",
   "metadata": {},
   "source": [
    "## Salaries\n",
    "\n",
    "Here the salary for each year is calculated. We assume that the salary grows at a constant rate each year for cost of living raises, and then also every number of years, the salary increases by a further percentage due to a promotion or switching jobs. Based on this assumption, the salary would evolve over time with the following equation:\n",
    "\n",
    "$$s_t = s_0 (1 + r_{cl})^n (1 + r_p)^p$$\n",
    "\n",
    "Where:\n",
    "- $s_t$: Salary at year $t$\n",
    "- $s_0$: Starting salary (year 0)\n",
    "- $r_{cl}$: Annual cost of living raise\n",
    "- $r_p$: Promotion raise\n",
    "- $p$: Number of promotions\n",
    "\n",
    "And in Python format:"
   ]
  },
  {
   "cell_type": "code",
   "execution_count": 3,
   "id": "d8266b69-3d49-431c-a017-09b8077ef387",
   "metadata": {},
   "outputs": [],
   "source": [
    "def salary_at_year(data: ModelInputs, year):\n",
    "    \"\"\"\n",
    "    Gets the salary at a given year from the start of the model based on cost of living raises and regular promotions.\n",
    "    \"\"\"\n",
    "    # Every n years we have a promotion, so dividing the years and taking out the decimals gets the number of promotions\n",
    "    num_promos = int(year / data.promos_every_n_years)\n",
    "    \n",
    "    # This is the formula above implemented in Python\n",
    "    salary_t = data.starting_salary * (1 + data.cost_of_living_raise) ** year * (1 + data.promo_raise) ** num_promos\n",
    "    return salary_t"
   ]
  },
  {
   "cell_type": "markdown",
   "id": "d2f6c07e-80f7-4c5c-96c1-8dc5dc265ae3",
   "metadata": {},
   "source": [
    "That function will get the salary at a given year, so to get all the salaries we just run it on each year. But we will not know how many years to run as we should run it until the individual is able to retire. So we are just showing the first few salaries for now and will later use this function in the [Wealths](#Wealths) section of the model."
   ]
  },
  {
   "cell_type": "code",
   "execution_count": 4,
   "id": "e8b61e50-0f85-4282-a483-df557a7ece26",
   "metadata": {},
   "outputs": [
    {
     "name": "stdout",
     "output_type": "stream",
     "text": [
      "The salary at year 1 is $61,200.\n",
      "The salary at year 2 is $62,424.\n",
      "The salary at year 3 is $63,672.\n",
      "The salary at year 4 is $64,946.\n",
      "The salary at year 5 is $76,182.\n",
      "The salary at year 6 is $77,705.\n"
     ]
    }
   ],
   "source": [
    "for i in range(6):\n",
    "    year = i + 1\n",
    "    salary = salary_at_year(model_data, year)\n",
    "    print(f'The salary at year {year} is ${salary:,.0f}.')"
   ]
  },
  {
   "cell_type": "markdown",
   "id": "3d99aa2d-8595-4bd1-92d1-240ae3b3dcb7",
   "metadata": {},
   "source": [
    "# Financial Model for Retirement Planning\n",
    "\n",
    "This Python script models the financial trajectory of an individual's career and retirement savings. It uses a combination of salary projections, cost of living raises, promotions, and savings rates to calculate annual wealth accumulation. The script iterates through each year, printing the accumulated wealth until the retirement savings goal is reached. In the provided example, it takes 28 years to accumulate the desired retirement savings based on the specified model parameters.\n",
    "\n",
    "## Key Components:\n",
    "\n",
    "1. **ModelInputs Class:**\n",
    "   - Defines parameters such as starting salary, promotion details, savings rates, and desired retirement savings.\n",
    "\n",
    "2. **`salary_at_year` Function:**\n",
    "   - Calculates the salary at a given year, considering cost of living raises and regular promotions.\n",
    "\n",
    "3. **`cash_saved_during_year` Function:**\n",
    "   - Calculates the cash saved within a given year based on the calculated salary and savings rate.\n",
    "\n",
    "4. **`wealth_at_year` Function:**\n",
    "   - Calculates the accumulated wealth for a given year, incorporating the previous year's wealth, investment rate, and cash saved during the current year.\n",
    "\n",
    "5. **`years_to_retirement` Function:**\n",
    "   - Determines the number of years required to reach the desired retirement savings by iteratively calculating wealth accumulation until the goal is met.\n",
    "\n",
    "## Sample Output:\n",
    "\n",
    "```plaintext\n",
    "Wealths over time:\n",
    "The wealth at year 1 is $15,300.\n",
    "The wealth at year 2 is $31,671.\n",
    "...\n",
    "The wealth at year 28 is $1,534,910.\n",
    "\n",
    "Retirement:\n",
    "It will take 28 years to retire.\n"
   ]
  },
  {
   "cell_type": "code",
   "execution_count": null,
   "id": "ee96e427-4ace-4b5a-b238-f92e408bdfe6",
   "metadata": {},
   "outputs": [],
   "source": []
  }
 ],
 "metadata": {
  "kernelspec": {
   "display_name": "Python 3 (ipykernel)",
   "language": "python",
   "name": "python3"
  },
  "language_info": {
   "codemirror_mode": {
    "name": "ipython",
    "version": 3
   },
   "file_extension": ".py",
   "mimetype": "text/x-python",
   "name": "python",
   "nbconvert_exporter": "python",
   "pygments_lexer": "ipython3",
   "version": "3.7.16"
  }
 },
 "nbformat": 4,
 "nbformat_minor": 5
}
